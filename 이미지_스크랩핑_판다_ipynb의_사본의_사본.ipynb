{
  "nbformat": 4,
  "nbformat_minor": 0,
  "metadata": {
    "colab": {
      "provenance": [],
      "authorship_tag": "ABX9TyNxkTuqshJwMAh6BDY0XwHA",
      "include_colab_link": true
    },
    "kernelspec": {
      "name": "python3",
      "display_name": "Python 3"
    },
    "language_info": {
      "name": "python"
    }
  },
  "cells": [
    {
      "cell_type": "markdown",
      "metadata": {
        "id": "view-in-github",
        "colab_type": "text"
      },
      "source": [
        "<a href=\"https://colab.research.google.com/github/lca510/lca/blob/main/%EC%9D%B4%EB%AF%B8%EC%A7%80_%EC%8A%A4%ED%81%AC%EB%9E%A9%ED%95%91_%ED%8C%90%EB%8B%A4_ipynb%EC%9D%98_%EC%82%AC%EB%B3%B8%EC%9D%98_%EC%82%AC%EB%B3%B8.ipynb\" target=\"_parent\"><img src=\"https://colab.research.google.com/assets/colab-badge.svg\" alt=\"Open In Colab\"/></a>"
      ]
    },
    {
      "cell_type": "code",
      "execution_count": 1,
      "metadata": {
        "colab": {
          "base_uri": "https://localhost:8080/"
        },
        "id": "cNCpQORBDQhH",
        "outputId": "cfec0ec1-74ed-49fa-e26b-1d4ebbecf0d7"
      },
      "outputs": [
        {
          "output_type": "stream",
          "name": "stdout",
          "text": [
            "Collecting bing-image-downloader\n",
            "  Downloading bing_image_downloader-1.1.2-py3-none-any.whl (5.9 kB)\n",
            "Installing collected packages: bing-image-downloader\n",
            "Successfully installed bing-image-downloader-1.1.2\n"
          ]
        }
      ],
      "source": [
        "!pip install bing-image-downloader"
      ]
    },
    {
      "cell_type": "code",
      "source": [
        "from bing_image_downloader import downloader # bing_image_downloader 모듈에서 downloader를 가져옴\n",
        "from pathlib import Path # pathlib 모듈에서 Path를 가져옴\n",
        "\n",
        "def download_images(keyword, num_images, file_name):\n",
        "    output_directory = \"images\" # 이미지를 저장할 폴더 이름\n",
        "\n",
        "    downloader.download(keyword, limit=num_images, output_dir=output_directory, adult_filter_off=True, force_replace=False, timeout=60) # 이미지 다운로드\n",
        "\n",
        "    root = Path().cwd() / output_directory # 이미지 저장 폴더의 경로\n",
        "    downloaded_files = list(root.glob(\"*.*\")) # 폴더 내 모든 파일 가져오기\n",
        "    for i, file in enumerate(downloaded_files): # 다운로드된 각 파일에 대해 반복\n",
        "        extension = file.suffix # 파일 확장자\n",
        "        new_file_name = f\"{file_name}{i+1}{extension}\" # 새로운 파일 이름\n",
        "        new_file_path = root / new_file_name # 새로운 파일 경로\n",
        "        file.rename(new_file_path) # 파일 이름 변경\n",
        "\n",
        "# 사용 예시\n",
        "keyword = \"판다\" # 이미지 검색 키워드\n",
        "num_images = 30 # 다운로드할 이미지 수\n",
        "file_name = \"판다\" # 파일 이름\n",
        "\n",
        "download_images(keyword, num_images, file_name) # 이미지 다운로드\n"
      ],
      "metadata": {
        "colab": {
          "base_uri": "https://localhost:8080/"
        },
        "id": "Un4w8lL-EHPt",
        "outputId": "01d8bcb5-f71f-4800-f6d3-5bb647effd4b"
      },
      "execution_count": 2,
      "outputs": [
        {
          "output_type": "stream",
          "name": "stdout",
          "text": [
            "[%] Downloading Images to /content/images/판다\n",
            "\n",
            "\n",
            "[!!]Indexing page: 1\n",
            "\n",
            "[%] Indexed 30 Images on Page 1.\n",
            "\n",
            "===============================================\n",
            "\n",
            "[%] Downloading Image #1 from http://kr.people.com.cn/NMediaFile/2021/1223/FOREIGN202112231641000096035066676.jpg\n",
            "[%] File Downloaded !\n",
            "\n",
            "[%] Downloading Image #2 from https://i.ytimg.com/vi/kRwfc8DCzz0/maxresdefault.jpg\n",
            "[%] File Downloaded !\n",
            "\n",
            "[%] Downloading Image #3 from http://kr.people.com.cn/NMediaFile/2021/0517/FOREIGN202105171452000486786448662.jpg\n",
            "[%] File Downloaded !\n",
            "\n",
            "[%] Downloading Image #4 from https://www.visitcalifornia.com/sites/visitcalifornia.com/files/PandaCanyonSanDiegoZoo_1280x642.jpg\n",
            "[%] File Downloaded !\n",
            "\n",
            "[%] Downloading Image #5 from http://www.gannett-cdn.com/-mm-/54eecda108ba6a85a9242035b922a9a7a44412ec/c%3D0-439-5100-3315%26r%3Dx1683%26c%3D3200x1680/local/-/media/USATODAY/USATODAY/2014/07/11/1405109034000-panda.jpg\n",
            "[%] File Downloaded !\n",
            "\n",
            "[%] Downloading Image #6 from https://i.ytimg.com/vi/-zU1u210f5k/maxresdefault.jpg\n",
            "[%] File Downloaded !\n",
            "\n",
            "[%] Downloading Image #7 from https://s-media-cache-ak0.pinimg.com/736x/ba/4d/61/ba4d61611bba4511ccffd05e09af6474.jpg\n",
            "[%] File Downloaded !\n",
            "\n",
            "[%] Downloading Image #8 from https://i.ytimg.com/vi/H27Rk3bvKrI/maxresdefault.jpg\n",
            "[%] File Downloaded !\n",
            "\n",
            "[%] Downloading Image #9 from http://korea.xinhuanet.com/titlepic/135732874_1475632540435_title1n.jpg\n",
            "[%] File Downloaded !\n",
            "\n",
            "[%] Downloading Image #10 from https://www.canr.msu.edu/csis/uploads/images/Panda_Wang_Trap_Small.jpg?language_id=1\n",
            "[%] File Downloaded !\n",
            "\n",
            "[%] Downloading Image #11 from https://i.ytimg.com/vi/rdu59yy0Jtg/maxresdefault.jpg\n",
            "[%] File Downloaded !\n",
            "\n",
            "[%] Downloading Image #12 from http://kr.xinhuanet.com/titlepic/135886900_1481080793373_title1n.jpg\n",
            "[%] File Downloaded !\n",
            "\n",
            "[%] Downloading Image #13 from https://blogfiles.pstatic.net/MjAyMTEwMzFfMTkg/MDAxNjM1NjA2ODc5ODc0.BNUhYgk_Y8iaB-Sy_xO1r9Wlv0TMyvEobmoqXdUg7LMg.052pp0UUQ78uGHy6763ffG9gvQ1oqhdPGcCILeK9h54g.JPEG.v7709763/다운로드_(3).jpg?type=w3\n",
            "[!] Issue getting: https://blogfiles.pstatic.net/MjAyMTEwMzFfMTkg/MDAxNjM1NjA2ODc5ODc0.BNUhYgk_Y8iaB-Sy_xO1r9Wlv0TMyvEobmoqXdUg7LMg.052pp0UUQ78uGHy6763ffG9gvQ1oqhdPGcCILeK9h54g.JPEG.v7709763/다운로드_(3).jpg?type=w3\n",
            "[!] Error:: 'ascii' codec can't encode characters in position 147-150: ordinal not in range(128)\n",
            "[%] Downloading Image #13 from https://t1.daumcdn.net/cfile/blog/99F444485CF66BA51B\n",
            "[%] File Downloaded !\n",
            "\n",
            "[%] Downloading Image #14 from https://img4.yna.co.kr/etc/inner/KR/2021/01/03/AKR20210103036100061_02_i_P4.jpg\n",
            "[!] Issue getting: https://img4.yna.co.kr/etc/inner/KR/2021/01/03/AKR20210103036100061_02_i_P4.jpg\n",
            "[!] Error:: <urlopen error [SSL: UNSAFE_LEGACY_RENEGOTIATION_DISABLED] unsafe legacy renegotiation disabled (_ssl.c:1007)>\n",
            "[%] Downloading Image #14 from http://kid.chosun.com/site/data/img_dir/2016/09/05/2016090501804_0.jpg\n",
            "[%] File Downloaded !\n",
            "\n",
            "[%] Downloading Image #15 from https://webstockreview.net/images/emoji-clipart-bear-10.png\n",
            "[%] File Downloaded !\n",
            "\n",
            "[%] Downloading Image #16 from https://newsimg.hankookilbo.com/cms/articlerelease/2020/07/03/236c52e2-f89d-4014-9712-cd15f95f526a.jpg\n",
            "[%] File Downloaded !\n",
            "\n",
            "[%] Downloading Image #17 from https://i.ytimg.com/vi/9hWD1qCaaDs/maxresdefault.jpg\n",
            "[%] File Downloaded !\n",
            "\n",
            "[%] Downloading Image #18 from https://static.vecteezy.com/system/resources/previews/003/212/214/large_2x/cute-cartoon-panda-holding-chinese-flag-vector.jpg\n",
            "[!] Issue getting: https://static.vecteezy.com/system/resources/previews/003/212/214/large_2x/cute-cartoon-panda-holding-chinese-flag-vector.jpg\n",
            "[!] Error:: HTTP Error 403: Forbidden\n",
            "[%] Downloading Image #18 from https://img0.yna.co.kr/etc/inner/KR/2020/09/22/AKR20200922149000009_02_i_P4.jpg\n",
            "[!] Issue getting: https://img0.yna.co.kr/etc/inner/KR/2020/09/22/AKR20200922149000009_02_i_P4.jpg\n",
            "[!] Error:: <urlopen error [SSL: UNSAFE_LEGACY_RENEGOTIATION_DISABLED] unsafe legacy renegotiation disabled (_ssl.c:1007)>\n",
            "[%] Downloading Image #18 from https://i.ytimg.com/vi/y5L1o5HG-Bw/maxresdefault.jpg\n",
            "[%] File Downloaded !\n",
            "\n",
            "[%] Downloading Image #19 from https://media.istockphoto.com/photos/great-pandas-looking-at-the-camera-chengdu-sichuan-china-picture-id160905980\n",
            "[%] File Downloaded !\n",
            "\n",
            "[%] Downloading Image #20 from https://i.ytimg.com/vi/c1AAIvNhEmI/hqdefault.jpg\n",
            "[%] File Downloaded !\n",
            "\n",
            "[%] Downloading Image #21 from https://i.ytimg.com/vi/x8GNng64Drs/maxresdefault.jpg\n",
            "[%] File Downloaded !\n",
            "\n",
            "[%] Downloading Image #22 from https://t1.daumcdn.net/news/202207/21/khan/20220721154729121ubdu.jpg\n",
            "[%] File Downloaded !\n",
            "\n",
            "[%] Downloading Image #23 from https://t1.daumcdn.net/cfile/tistory/2647CC3D58B813E308\n",
            "[%] File Downloaded !\n",
            "\n",
            "[%] Downloading Image #24 from https://i.ytimg.com/vi/UynHTm1sPts/maxresdefault.jpg\n",
            "[%] File Downloaded !\n",
            "\n",
            "[%] Downloading Image #25 from https://mp-seoul-image-production-s3.mangoplate.com/586167_1516338038345567.jpg\n",
            "[%] File Downloaded !\n",
            "\n",
            "[%] Downloading Image #26 from https://i.ytimg.com/vi/RlVLQ20k65s/maxresdefault.jpg\n",
            "[%] File Downloaded !\n",
            "\n",
            "\n",
            "\n",
            "[!!]Indexing page: 2\n",
            "\n",
            "[%] Indexed 35 Images on Page 2.\n",
            "\n",
            "===============================================\n",
            "\n",
            "[%] Downloading Image #27 from http://postfiles10.naver.net/20101220_121/basic0360_1292805369256OhtPo_JPEG/2010-12-20_09%3B31%3B17.jpg?type=w2\n",
            "[%] File Downloaded !\n",
            "\n",
            "[%] Downloading Image #28 from https://yt3.ggpht.com/a/AATXAJyBpXwUoqBn-N2MDElcYIV47iH_Z0fEWVntkw=s900-c-k-c0xffffffff-no-rj-mo\n",
            "[%] File Downloaded !\n",
            "\n",
            "[%] Downloading Image #29 from http://kr.xinhuanet.com/titlepic/1310104944_1627979069222_title1n.jpg\n",
            "[%] File Downloaded !\n",
            "\n",
            "[%] Downloading Image #30 from http://res.heraldm.com/content/image/2019/08/30/20190830000506_0.jpg\n",
            "[%] File Downloaded !\n",
            "\n",
            "\n",
            "\n",
            "[%] Done. Downloaded 30 images.\n"
          ]
        }
      ]
    },
    {
      "cell_type": "code",
      "source": [
        "import shutil\n",
        "\n",
        "def compress_folder(folder_path, output_path):\n",
        "    shutil.make_archive(output_path, 'zip', folder_path)\n",
        "\n",
        "# 이미지 저장 폴더 압축\n",
        "folder_path = \"images\"\n",
        "output_path = \"images\"\n",
        "compress_folder(folder_path, output_path)"
      ],
      "metadata": {
        "id": "8oJ7zoG4GWkj"
      },
      "execution_count": 3,
      "outputs": []
    }
  ]
}